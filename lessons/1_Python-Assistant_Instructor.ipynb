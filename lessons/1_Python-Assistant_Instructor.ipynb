{
 "cells": [
  {
   "cell_type": "markdown",
   "metadata": {},
   "source": [
    "# Assistant Instructor Training\n",
    "\n",
    "* * * \n",
    "\n",
    "<div class=\"alert alert-success\">  \n",
    "    \n",
    "### Learning Objectives \n",
    "    \n",
    "* Understand how to be a helper for a D-Lab workshop\n",
    "* Understand the communication channels used in a workshop \n",
    "\n",
    "</div>\n",
    "\n",
    "### Icons Used in This Notebook\n",
    "🔔 **Question**: A quick question to help you understand what's going on.<br>\n",
    "🥊 **Challenge**: Interactive excersise. We'll work through these in the workshop!<br>\n",
    "💡 **Tip**: How to do something a bit more efficiently or effectively.<br>\n",
    "⚠️ **Warning:** Heads-up about tricky stuff or common mistakes.<br>\n",
    "📝 **Poll:** A Zoom poll to help you learn!<br>\n",
    "🎬 **Demo**: Showing off something more advanced – so you know what Python can be used for!<br> \n",
    "\n",
    "### Sections\n",
    "1. [Section Name - EDIT ME](#section1)\n",
    "2. [Section Name - EDIT ME](#section2)\n",
    "3. [Reflection: [Title of Reflection] - EDIT ME](#refl)\n",
    "4. [Demo: [Title of Demo] - EDIT ME](#demo)"
   ]
  },
  {
   "cell_type": "markdown",
   "metadata": {
    "tags": []
   },
   "source": [
    "<a id='section1'></a>\n",
    "\n",
    "# What is a helper? (5 min)\n",
    "\n",
    "A helper is an essential role in the D-Lab instructional model. As a helper, you will support instructors in handling Zoom functions, and contribute your knowledge and experience to the content of the workshop.\n",
    "This looks like: \n",
    "- Managing any Zoom / back-end organization such as breakout rooms, waiting rooms, solving technical problems\n",
    "- Answering questions in the chat\n",
    "- Enhancing instruction by helping fill gaps in instructor knowledge (IOKN2K!), sharing blog posts/links in the chat, or adding in tips/best practice from personal experience.\n",
    "- Making note of any issues to improve future workshops (see Workshop Improvement)\n",
    "\n",
    "In this training we will introduce the key expectations and skills involved in being a D-Lab workshop helper.\n"
   ]
  },
  {
   "cell_type": "markdown",
   "metadata": {},
   "source": [
    "# Answering questions in the chat"
   ]
  },
  {
   "cell_type": "markdown",
   "metadata": {},
   "source": [
    "The primary way that people may ask questions is by using the chat feature in Zoom. Assistant instructors can help support the instructor by handling these questions and allowing the instructor to focus on the core material. Sometimes we know how to answer the question already, sometimes theh are on a topic that is unfamiliar to us. This is expected, and\n",
    "\n",
    "Tips for replying to questions: \n",
    "1. Use the reply in thread feature on Zoom\n",
    "2. Try to avoid jargon and technical language in your reply\n",
    "3. Provide any resources\n",
    "4. Think from the learner's perspective\n",
    "\n",
    "\n",
    "Places to find further resources:\n",
    "- Sometimes a quick search on StackOverflow\n",
    "- Documentation\n",
    "- Blog posts\n",
    "\n",
    "\n",
    "If you don't know the answer:\n",
    "- still acknowledge the question\n",
    "- point them to D-Lab consulting or another resource to get more help\n",
    "\n",
    "\n",
    "\n",
    "\n",
    "\n"
   ]
  },
  {
   "cell_type": "markdown",
   "metadata": {},
   "source": [
    "## Exercise: (5 min, independent)\n",
    "Pick one of the questions below - pretend that it is a question in the Zoom chat of a workshop and try to talk through the \n",
    "\n",
    "[Note- open up a jamboard so people can add their things to it and see other answers to the questions] \n",
    "\n"
   ]
  },
  {
   "cell_type": "markdown",
   "metadata": {},
   "source": [
    "## Enhancing instruction\n",
    "- The other main role of the assistant instructor is to add to the quality of the workshop by adding material this can look like\n",
    "1. Adding additional resources (think answering proactive/anticipating questions)\n",
    "2. Adding your own experience \"Something that helped me understand this concept is X\"\n",
    "3. Supporting the instructor who may turn to you if there is a piece of information that they are missing \n",
    "\n",
    "\n"
   ]
  },
  {
   "cell_type": "markdown",
   "metadata": {},
   "source": [
    "## Workshop improvement (5 minutes)\n",
    "- Making a Github issue\n",
    "- Making a Github account (if you don't have one already)"
   ]
  },
  {
   "cell_type": "markdown",
   "metadata": {},
   "source": [
    "## Exercise: Make a github issue (5 minutes)\n",
    "Make a github issue with one suggestion for this workshop's improvement. "
   ]
  },
  {
   "cell_type": "markdown",
   "metadata": {
    "tags": []
   },
   "source": [
    "## Workshop Wrap-up (5 min)"
   ]
  },
  {
   "cell_type": "markdown",
   "metadata": {},
   "source": [
    "- The instructor will recap the workshop contents\n",
    "- Stay on after the workshop to discuss any outstanding GitHub issues or follow-up tasks\n",
    "- Update the attendance at the end\n",
    "- Congratulations! You made it through the workshop :)"
   ]
  },
  {
   "cell_type": "markdown",
   "metadata": {
    "jp-MarkdownHeadingCollapsed": true,
    "tags": []
   },
   "source": [
    "<div class=\"alert alert-success\">\n",
    "\n",
    "## ❗ Key Points\n",
    "\n",
    "* EDIT ME. Recap the most useful information in this notebook. Keep it short and use action words. Min 3, max 8.\n",
    "* EDIT ME. Recap the most useful information in this notebook. Keep it short and use action words. Min 3, max 8.\n",
    "* EDIT ME. Recap the most useful information in this notebook. Keep it short and use action words. Min 3, max 8.\n",
    "\n",
    "</div>"
   ]
  }
 ],
 "metadata": {
  "kernelspec": {
   "display_name": "Python 3 (ipykernel)",
   "language": "python",
   "name": "python3"
  },
  "language_info": {
   "codemirror_mode": {
    "name": "ipython",
    "version": 3
   },
   "file_extension": ".py",
   "mimetype": "text/x-python",
   "name": "python",
   "nbconvert_exporter": "python",
   "pygments_lexer": "ipython3",
   "version": "3.9.13"
  }
 },
 "nbformat": 4,
 "nbformat_minor": 4
}
