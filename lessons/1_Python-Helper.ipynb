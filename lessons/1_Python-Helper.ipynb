{
 "cells": [
  {
   "cell_type": "markdown",
   "metadata": {},
   "source": [
    "# Helper Training\n",
    "\n",
    "* * * \n",
    "\n",
    "<div class=\"alert alert-success\">  \n",
    "    \n",
    "### Learning Objectives \n",
    "    \n",
    "* Understand how to be a helper for a D-Lab workshop\n",
    "* Understand the communication channels used in a workshop \n",
    "\n",
    "</div>\n",
    "\n",
    "### Icons Used in This Notebook\n",
    "🔔 **Question**: A quick question to help you understand what's going on.<br>\n",
    "🥊 **Challenge**: Interactive excersise. We'll work through these in the workshop!<br>\n",
    "💡 **Tip**: How to do something a bit more efficiently or effectively.<br>\n",
    "⚠️ **Warning:** Heads-up about tricky stuff or common mistakes.<br>\n",
    "📝 **Poll:** A Zoom poll to help you learn!<br>\n",
    "🎬 **Demo**: Showing off something more advanced – so you know what Python can be used for!<br> \n",
    "\n",
    "### Sections\n",
    "1. [Section Name - EDIT ME](#section1)\n",
    "2. [Section Name - EDIT ME](#section2)\n",
    "3. [Reflection: [Title of Reflection] - EDIT ME](#refl)\n",
    "4. [Demo: [Title of Demo] - EDIT ME](#demo)"
   ]
  },
  {
   "cell_type": "markdown",
   "metadata": {
    "tags": []
   },
   "source": [
    "<a id='section1'></a>\n",
    "\n",
    "# What is a helper?\n",
    "\n",
    "A helper is an essential role in the D-Lab instructional model. As a helper, you will support instructors in handling Zoom functions, and contribute your knowledge and experience to the content of the workshop.\n",
    "This looks like: \n",
    "- Managing any Zoom / back-end organization such as breakout rooms, waiting rooms, solving technical problems\n",
    "- Answering questions in the chat\n",
    "- Enhancing instruction by helping fill gaps in instructor knowledge (IOKN2K!), sharing blog posts/links in the chat, or adding in tips/best practice from personal experience.\n",
    "- Making note of any issues to improve future workshops (see Workshop Improvement)\n",
    "\n",
    "In this training we will introduce the key expectations and skills involved in being a D-Lab workshop helper.\n"
   ]
  },
  {
   "cell_type": "markdown",
   "metadata": {},
   "source": [
    "## Pre-workshop preparation"
   ]
  },
  {
   "cell_type": "markdown",
   "metadata": {},
   "source": [
    "Before the workshop, the main priorities is ensuring that the day of the workshop runs smoothly. This includes:\n",
    "1. Communicating with the instructor\n",
    "2. Reviewing the helper explainer and runsheet\n",
    "3. Checking logistical details"
   ]
  },
  {
   "cell_type": "markdown",
   "metadata": {},
   "source": [
    "## Introduction/ Video policy\n",
    "\n",
    "1. Introduce yourself at the beginning of the workshop\n",
    "2. Video on/off policy throughout the workshop"
   ]
  },
  {
   "cell_type": "markdown",
   "metadata": {},
   "source": [
    "## Zoom features for helpers\n",
    "\n",
    "[Poll to see which functions people are already confident with: waiting room, breakout rooms, chat threads/reactions, polls]\n",
    "\n",
    "Helpers are also useful for making sure the Zoom call runs smoothly. For example, letting the instructor know if the text on the shared screen is an appropriate size, or if their audio has cut out. "
   ]
  },
  {
   "cell_type": "markdown",
   "metadata": {},
   "source": [
    "## Zoom chat\n",
    "\n",
    "- the primary way that you will interact with the other folks in the workshop is through the Zoom chat\n",
    "- Remember IOKN2K\n",
    "- Infrequently, it may also be appropriate to unmute yourself to verbally answer a question or support the instructor."
   ]
  },
  {
   "cell_type": "markdown",
   "metadata": {},
   "source": [
    "## Exercise: answering questions in the chat\n",
    "- Break out into technical groups, work together to answer questions in the chat\n",
    "- Have some pre-populated questions to ask (A document with Python questions, R questions)\n"
   ]
  },
  {
   "cell_type": "markdown",
   "metadata": {},
   "source": [
    "## Workshop improvement\n",
    "- Making a Github issue\n",
    "- Making a Github account (if you don't have one already)"
   ]
  },
  {
   "cell_type": "markdown",
   "metadata": {},
   "source": [
    "## Exercise: Make a github issue\n",
    "Make a github issue with one suggestion for this workshop's improvement. "
   ]
  },
  {
   "cell_type": "markdown",
   "metadata": {
    "jp-MarkdownHeadingCollapsed": true,
    "tags": []
   },
   "source": [
    "<div class=\"alert alert-success\">\n",
    "\n",
    "## ❗ Key Points\n",
    "\n",
    "* EDIT ME. Recap the most useful information in this notebook. Keep it short and use action words. Min 3, max 8.\n",
    "* EDIT ME. Recap the most useful information in this notebook. Keep it short and use action words. Min 3, max 8.\n",
    "* EDIT ME. Recap the most useful information in this notebook. Keep it short and use action words. Min 3, max 8.\n",
    "\n",
    "</div>"
   ]
  }
 ],
 "metadata": {
  "kernelspec": {
   "display_name": "Python 3 (ipykernel)",
   "language": "python",
   "name": "python3"
  },
  "language_info": {
   "codemirror_mode": {
    "name": "ipython",
    "version": 3
   },
   "file_extension": ".py",
   "mimetype": "text/x-python",
   "name": "python",
   "nbconvert_exporter": "python",
   "pygments_lexer": "ipython3",
   "version": "3.9.13"
  }
 },
 "nbformat": 4,
 "nbformat_minor": 4
}
