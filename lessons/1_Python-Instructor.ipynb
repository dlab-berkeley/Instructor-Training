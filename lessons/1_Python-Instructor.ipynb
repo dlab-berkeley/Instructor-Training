{
 "cells": [
  {
   "cell_type": "markdown",
   "metadata": {},
   "source": [
    "# Instructor Training: Introduction to D-Lab Workshops\n",
    "\n",
    "* * * \n",
    "\n",
    "<div class=\"alert alert-success\">  \n",
    "    \n",
    "### Learning Objectives \n",
    "    \n",
    "* Understand how to introduce D-Lab workshops. \n",
    "* Distinguish between the different sections used in D-Lab notebooks. \n",
    "* Practice teaching and engaging participants effectively.\n",
    "* Connect principles of teaching to workshop instruction.\n",
    "\n",
    "</div>\n",
    "\n",
    "### Icons Used in This Notebook\n",
    "🔔 **Question**: A quick question to help you understand what's going on.<br>\n",
    "🥊 **Challenge**: Interactive excersise. We'll work through these in the workshop!<br>\n",
    "💡 **Tip**: How to do something a bit more efficiently or effectively.<br>\n",
    "⚠️ **Warning:** Heads-up about tricky stuff or common mistakes.<br>\n",
    "📝 **Poll:** A Zoom poll to help you learn!<br>\n",
    "🎬 **Demo**: Showing off something more advanced – so you know what Python can be used for!<br> \n",
    "\n",
    "### Sections\n",
    "1. [Teaching at D-Lab](#section1)\n",
    "2. [Introducing a workshop](#section2)\n",
    "3. [Teaching Data Science](#section3)\n",
    "4. [Participant Engagement](#section4)\n",
    "5. [Challenges](#section5)"
   ]
  },
  {
   "cell_type": "markdown",
   "metadata": {},
   "source": [
    "# Teaching at D-Lab\n",
    "<a id='section1'></a>\n",
    "\n",
    "Last session we talked about why we teach, today we will focus on how we teach. The primary goal of today is to give you a chance to practice in a low-pressure, low-stakes environment. To that end, we've asked you to prepare a 2-3 segment of a workshop that you might teach, and we will practice with that today. \n",
    "\n",
    "Workshops at D-Lab are taught by a team: \n",
    "- Instructor: Delivers workshop materials\n",
    "- Assistant Instructor: manages Zoom chat (e.g. questions) and supports the Instructor\n",
    "- Zoom Helper: confirms logistical details, helps with set-up issues\n",
    "\n",
    "\n",
    "All workshops will have an instructor, nearly every workshop will have an assistant instructor, and most workshops will have a zoom helper. However, it is important for all instructors to understand how other roles work in the event that there is not an assistant instructor / zoom helper."
   ]
  },
  {
   "cell_type": "markdown",
   "metadata": {},
   "source": [
    "# Introducing a workshop\n",
    "<a id='section2'></a>\n"
   ]
  },
  {
   "cell_type": "markdown",
   "metadata": {},
   "source": [
    "This workshop is an introduction to running a Python Workshop at the D-Lab. When we introduce a workshop we follow the following template:\n",
    "1. Introduce Instructors, Helpers\n",
    "\n",
    "    **Example:** \"Hi I'm Emily and I am a PhD student in Linguistics. I've been teaching with the D-Lab since I started graduate school, and I'm excited to share my experience with you in our Instructor Training.\"\n",
    "    \n",
    "2. Mention the scope of the workshop\n",
    "\n",
    "    **Example:** \"Today's workshop will focus on practicing our teaching skills and getting/ giving feedback. We will take a short break halfway through the workshop (around the top of the hour)\"\n",
    "    \n",
    "3. Introduce IOKN2K!\n",
    "\n",
    "    **Example:** \"The D-Lab motto is IOKN2K!, or It's OK Not To Know- this means that we want you to feel comfortable asking questions or expressing when you don't know something - we are all here to learn together!\"\n",
    "    \n",
    "4. Show D-Lab resources\n",
    "\n",
    "    **Example:** \"I'll share my screen with the D-Lab website. We have consulting services, which are a great way to get started with a new project and get 1-on-1 help.\"\n",
    "    \n",
    "5. Engage participants: Ask 2-3 questions to get to know your participants more\n",
    "\n",
    "    **Example:** \"Put a 0 in the chat if you have never attended a D-Lab workshop before, and a 1 in the chat if you have\""
   ]
  },
  {
   "cell_type": "markdown",
   "metadata": {
    "tags": []
   },
   "source": [
    "## 🥊 Challenge: Starting a workshop (15 min, 3 min  + 2 min feedback each)\n",
    "1. Break out into groups\n",
    "2. Rotate through introducing your chosen workshop (3 min) Remember the following steps:\n",
    "    - Introduce yourself\n",
    "    - Workshop Scope\n",
    "    - IOKN2K!\n",
    "    - Open D-Lab website\n",
    "    - Ask for input from participants.\n",
    "3. Give feedback (2 min)\n",
    "4. Repeat 2+3 for other group members\n",
    "4. Write down one takeaway (we will ask for volunteers to share their takeaways)"
   ]
  },
  {
   "cell_type": "markdown",
   "metadata": {},
   "source": [
    "# Teaching data science\n",
    "<a id='section3'></a>\n"
   ]
  },
  {
   "cell_type": "markdown",
   "metadata": {},
   "source": [
    "Teaching data science is a unique skill. Even if you have lots of experience teaching in other domains, it can take some time to get used to this paradigm. A good way to get comfortable is to practice, which is what we will focus on in this workshop. Some quick tips to keep in mind:\n",
    "\n",
    "1. Go slower than you think you need to\n",
    "2. Repeat the main ideas / important points in several times\n",
    "3. Remember the learner's perspective"
   ]
  },
  {
   "cell_type": "markdown",
   "metadata": {
    "tags": []
   },
   "source": [
    "## 🥊 Challenge: Practice teaching- 15 minutes (3 min + 2 min feedback each)\n",
    "1. Break out into groups\n",
    "2. Practice talking through the snippet that you have prepared (3 min) (Don't worry about making it through your whole snippet)\n",
    "3. Give feedback (2 min)\n",
    "4. Repeat 2+3 for other members of group\n",
    "4. Write down one takeaway for yourself the next time you teach that notebook (We will ask for volunteers to share your tops)"
   ]
  },
  {
   "cell_type": "markdown",
   "metadata": {},
   "source": [
    "# Participant engagement \n",
    "<a id='section4'></a>\n"
   ]
  },
  {
   "cell_type": "markdown",
   "metadata": {},
   "source": [
    "In the Zoom environment it can be especially tricky to keep participats engaged in the workshop, but it's well worth the effort - both instructors and participants report enjoying the workshop more when participants are more engaged. In the D-Lab, we practice the **10-minute rule**: Expectations for participant engagement are set in the first 10 minutes of the workshop. There are two types of expectations:\n",
    "\n",
    "**Explicit expectations**: Saying things like \"After the challenges I will ask for volunteers to show their work\"\n",
    "\n",
    "**Implicit expectations**: Ask participants to engage in the first few minutes of the workshop (Asking for input from participants in the introduction is a great way to do so). \n",
    "\n",
    "\n",
    "Common types of participant engagement are:\n",
    "\n",
    "1. Asking for participants to put a question in the chat\n",
    "2. Asking for a short answer (e.g. 0-1) in chat\n",
    "3. Having participants react with a reaction flag (e.g. red X, green check)\n",
    "4. Using a Zoom poll\n",
    "\n",
    "## Open vs Closed questions\n",
    "\n",
    "One key tip for asking questions in Zoom workshops is to consider open vs closed questions:\n",
    "\n",
    "**Open questions**: Questions that are open-ended e.g. \"What do you notice about this figure?\"\n",
    "\n",
    "**Closed questions**: Questions that have constrained answer space e.g. \"In this figure, is group A or group B higher?\"\n",
    "\n",
    "Both are useful, but open questions require more work from participants to answer, which means that it also takes longer for them to answer. Closed questions may be less deep, but have higher rates of participant engagement. \n",
    "\n",
    "In your teaching, consider the phrasing of your questions carefully- use closed questions more frequently, and open questions sparingly for key concepts."
   ]
  },
  {
   "cell_type": "markdown",
   "metadata": {},
   "source": [
    "⚠️ **Warning:** Participation in workshops is always opt-in, so while we *encourage* participants to ask questions, share their answers, etc. we do not *require* it"
   ]
  },
  {
   "cell_type": "markdown",
   "metadata": {},
   "source": [
    "## 🥊 Challenge: Participant engagement\n",
    "1. Think about the practice you've had with teaching so far\n",
    "2. Write down (at least) one place where you could incorporate participant engagement.\n",
    "    - What strategy would you use? Where in the notebook would it fit?\n",
    "    - How long would it take?\n",
    "    - Would you need any preparation before the session?\n",
    "3. Add your note to the jamboard"
   ]
  },
  {
   "cell_type": "markdown",
   "metadata": {
    "tags": []
   },
   "source": [
    "# Challenges\n",
    "<a id='section5'></a>\n"
   ]
  },
  {
   "cell_type": "markdown",
   "metadata": {},
   "source": [
    "Challenges are the greatest chance for people to apply what they've learned. These are exercises where the participants work through on their own for a few minutes, then discuss together as a group. Each challenge has a key skill or idea that is being practiced. \n",
    "\n",
    "To maximize the effectiveness of a challenge, it is important to give enough structure at the beginning:\n",
    "1. Introduce the challenge thoroughly\n",
    "2. Give expectations for the challenge (how long it will take, if volunteers would be asked to share their results)\n",
    "\n",
    "\n",
    "..and to the end:\n",
    "\n",
    "3. Work with a student solution whenever possible\n",
    "4. Walk through the steps to come to the solution\n",
    "5. Highlight the key takeaway\n",
    "\n"
   ]
  },
  {
   "cell_type": "markdown",
   "metadata": {
    "tags": []
   },
   "source": [
    "## 🥊 Challenge: Working with challenges\n"
   ]
  },
  {
   "cell_type": "markdown",
   "metadata": {
    "jp-MarkdownHeadingCollapsed": true,
    "tags": []
   },
   "source": [
    "<div class=\"alert alert-success\">\n",
    "\n",
    "## ❗ Key Points\n",
    "\n",
    "* It takes practice to get comfortable teaching data science\n",
    "* In particular, practicing the opening of the workshop will ensure that things progress smoothly\n",
    "* Participant engagement is a dynamic and rewarding part of teaching\n",
    "* Keep questions short and closed in most cases, and open-ended very occasionally \n",
    "\n",
    "</div>"
   ]
  },
  {
   "cell_type": "code",
   "execution_count": null,
   "metadata": {},
   "outputs": [],
   "source": []
  },
  {
   "cell_type": "code",
   "execution_count": null,
   "metadata": {},
   "outputs": [],
   "source": []
  }
 ],
 "metadata": {
  "kernelspec": {
   "display_name": "Python 3 (ipykernel)",
   "language": "python",
   "name": "python3"
  },
  "language_info": {
   "codemirror_mode": {
    "name": "ipython",
    "version": 3
   },
   "file_extension": ".py",
   "mimetype": "text/x-python",
   "name": "python",
   "nbconvert_exporter": "python",
   "pygments_lexer": "ipython3",
   "version": "3.9.13"
  }
 },
 "nbformat": 4,
 "nbformat_minor": 4
}
