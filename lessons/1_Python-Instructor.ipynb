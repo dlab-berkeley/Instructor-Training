{
 "cells": [
  {
   "cell_type": "markdown",
   "metadata": {},
   "source": [
    "# Instructor Training: Introduction to D-Lab Workshops\n",
    "\n",
    "* * * \n",
    "\n",
    "<div class=\"alert alert-success\">  \n",
    "    \n",
    "### Learning Objectives \n",
    "    \n",
    "* Understand how to introduce D-Lab workshops. \n",
    "* Distinguish between the different sections used in workshop notebooks. \n",
    "* Practice teaching and engaging participants.\n",
    "* Connect principles of teaching to workshop instruction.\n",
    "\n",
    "</div>\n",
    "\n",
    "### Icons Used in This Notebook\n",
    "🔔 **Question**: A quick question to help you understand what's going on.<br>\n",
    "🥊 **Challenge**: Interactive excersise. We'll work through these in the workshop!<br>\n",
    "💡 **Tip**: How to do something a bit more efficiently or effectively.<br>\n",
    "\n",
    "### Sections\n",
    "1. [Teaching at D-Lab](#section1)\n",
    "2. [Introducing a workshop](#section2)\n",
    "3. [Teaching Data Science](#section3)\n",
    "4. [Participant Engagement](#section4)\n",
    "5. [Challenges](#section5)"
   ]
  },
  {
   "cell_type": "markdown",
   "metadata": {},
   "source": [
    "Last session we talked about why we teach, today we will focus on how we teach here at the D-Lab. The primary goal of today is to give you a chance to practice in a low-pressure, low-stakes environment. To that end, we've asked you to prepare a 2-3 segment of a workshop that you might teach, and we will practice with that today. \n",
    "\n",
    "\n",
    "**Question:** Has anyone had any issues with downloading / preparing materials for today?\n"
   ]
  },
  {
   "cell_type": "markdown",
   "metadata": {},
   "source": [
    "# Teaching at D-Lab\n",
    "<a id='section1'></a>\n",
    "\n",
    "Workshops at D-Lab are taught by a team made of several different roles: \n",
    "- **Instructor:** Delivers workshop materials, manage overall pacing\n",
    "- **Assistant Instructor:** manages Zoom chat (e.g. questions) and supports the Instructor during the workshop\n",
    "- **Zoom Helper:** confirms logistical details, helps with any set-up issues\n",
    "\n",
    "\n",
    "All workshops will have an instructor, nearly every workshop will have at least one assistant instructor, and many workshops will have a zoom helper. However, it is important for all instructors to understand how other roles work in the event that there is not an Assistant Instructor / Zoom Helper. Today we will cover the Instructor and Assistant Instructor roles.\n",
    "\n",
    "Today we will practice a few key skills for running a workshop at the D-Lab. The information in this workshop is also covered in the [D-Lab Guide to Instruction](https://docs.google.com/document/d/1_CxQn5amw47jyfqy9ECEgYm11IuL3iZr0Q9K8n5EPu4/edit#heading=h.q415f6yblf9s), which is the main reference for teaching at D-Lab."
   ]
  },
  {
   "cell_type": "markdown",
   "metadata": {},
   "source": [
    "# Introducing a Workshop\n",
    "<a id='section2'></a>\n"
   ]
  },
  {
   "cell_type": "markdown",
   "metadata": {},
   "source": [
    "The first step in running any D-Lab workshop is introducing the workshop. There are a few general steps to include in any workshop introduction. **If a workshop is part of a Series, do this at the start of each day.**  \n",
    "\n",
    "#### 1. Introduce Instructors, Assistant Instructors, Helpers\n",
    "\n",
    "- *Example:* \"Hi I'm Emily and I am a PhD student in Linguistics. I've been teaching with the D-Lab since I started graduate school, and I'm excited to share my experience with you in our Instructor Training. Today I am joined by...\"\n",
    "    \n",
    "#### 2. Mention the scope of the workshop\n",
    "\n",
    "- *Example:* \"Today's workshop will focus on practicing our teaching and getting/ giving feedback. We will take a short break halfway through the workshop (around the top of the hour)\"\n",
    "    \n",
    "#### 3. Introduce IOKN2K! \n",
    "\n",
    "- *Example 1:* \"The D-Lab motto is IOKN2K!, or It's OK Not To Know- this means that we want you to feel comfortable asking questions or expressing when you don't know something - we are all here to learn together!\"\n",
    "- *Example 2:* \"It's easy to forget simple things--for instance, how to run a cell in Python\" (Showing humility in doing \"easy\" activities instead of presenting yourself as an expert, indicating all questions are welcome)\n",
    "\n",
    "#### 4. Show D-Lab resources (Only Part 1)\n",
    "\n",
    "- *Example:* \"I'll share my screen with the D-Lab website. We have a lot of upcoming workshops- for example Python Fundamentals as an overview of how Python works. We also have consulting services, which are a great way to get started with a new project and get 1-on-1 help.\"\n",
    "    \n",
    "#### 5. Engage participants: Ask 2-3 questions to get to know your participants and get to know their needs\n",
    "\n",
    "- *Example 1:* \"Put a 0 in the chat if you have never attended a D-Lab workshop before, and a 1 in the chat if you have\"\n",
    "- *Example 2:* \"What did you have for breakfast this morning?\"\n",
    "- *Example 3:* \"What's the most boring thing you did last weekend\"\n",
    "- *Example 4:* \"What is one thing you are excited to learn today / what is one thing that confused you in the previous workshop?\""
   ]
  },
  {
   "cell_type": "markdown",
   "metadata": {
    "tags": []
   },
   "source": [
    "## 🥊 Challenge 1: Starting a workshop\n",
    "1. Break out into groups\n",
    "2. Rotate through introducing your chosen workshop (2 min) Remember the following steps:\n",
    "    - Introduce yourself\n",
    "    - Workshop scope\n",
    "    - IOKN2K!\n",
    "    - Open D-Lab website\n",
    "    - Ask for input from participants\n",
    "3. Give feedback (3 min)\n",
    "4. Repeat 2+3 for other group members\n",
    "5. Write down one takeaway and add it to the [Jamboard](https://jamboard.google.com/d/1Kd7hwNVY4vA7DFTdC8gJBY4ja6MDHbtxKhnM2vZygYo/viewer?pli=1). What is something you want to remember for next time you give a workshop introduction?"
   ]
  },
  {
   "cell_type": "markdown",
   "metadata": {},
   "source": [
    "# Teaching data science\n",
    "<a id='section3'></a>\n"
   ]
  },
  {
   "cell_type": "markdown",
   "metadata": {},
   "source": [
    "Teaching data science is a unique skill, even if you have lots of experience teaching in other contexts. A good way to get comfortable is to practice, which is what we will focus on in this workshop. In Part 1, we discussed how to teach data science effectively, and here we will start warming up our practice skills.\n",
    "\n",
    "Some quick tips to keep in mind:\n",
    "\n",
    "1. **Go slower than you think you need to**\n",
    "2. **Repeat the main ideas / important points**\n",
    "\n",
    "We will practice teaching in small groups next. The format will be the same as the previous challege- practice teaching for 3 minutes and giving feedback for 2 minutes each."
   ]
  },
  {
   "cell_type": "markdown",
   "metadata": {
    "tags": []
   },
   "source": [
    "## 🥊 Challenge 2: Practice teaching\n",
    "1. Break out into groups\n",
    "2. Practice talking through the snippet that you have prepared (2 min) (Don't worry about making it through your whole snippet)\n",
    "3. Give feedback (3 min)\n",
    "4. Repeat 2+3 for other members of group\n",
    "4. Write down one takeaway for yourself the next time you teach- add one reflection to the [Jamboard](https://jamboard.google.com/d/1Kd7hwNVY4vA7DFTdC8gJBY4ja6MDHbtxKhnM2vZygYo/viewer?pli=1&f=1)"
   ]
  },
  {
   "cell_type": "markdown",
   "metadata": {},
   "source": [
    "# Participant engagement \n",
    "<a id='section4'></a>\n"
   ]
  },
  {
   "cell_type": "markdown",
   "metadata": {},
   "source": [
    "In the Zoom environment it can be especially tricky to keep participants engaged in the workshop, but it's well worth the effort - both instructors and participants report enjoying the workshop more when participants are more engaged. \n",
    "\n",
    "In the D-Lab, we practice the **10-minute rule**: Expectations for participant engagement are set in the first 10 minutes of the workshop. \n",
    "\n",
    "There are two types of expectations:\n",
    "\n",
    "**Explicit expectations**: Saying things like \"After the challenges I will ask for volunteers to share their work\"\n",
    "\n",
    "**Implicit expectations**: Ask participants to engage in the first few minutes of the workshop (Asking for input from participants in the introduction is a great way to do so). \n",
    "\n",
    "\n",
    "Common types of participant engagement are:\n",
    "\n",
    "1. Asking participants to put a question in the chat\n",
    "    - \"What questions would you have about this dataset if you just loaded it up? How many variables are there, are there missing values, what is the unit of analysis, and so on.\" \n",
    "3. Asking for a short answer (e.g. 0-1) in chat\n",
    "    -  \"Please rate this chart between a 0 and a 1 in chat.\"\n",
    "4. Having participants react with a reaction flag (e.g. red X, green check)\n",
    "    - \"Starting this challenge, let's all put a red X by going to React in your menu bar. Change it to a green check if you are done with this challenge or would like to move on.\"\n",
    "5. Using a Zoom poll\n",
    "    - \"I'm going to launch a Zoom poll. You will see a popup. Please answer there!\" \n",
    "\n",
    "Every instructor will have their own preferences for how to engage with participants, so try out a few of these strategies and see what works best for you (for example in a mock teaching session!)"
   ]
  },
  {
   "cell_type": "markdown",
   "metadata": {},
   "source": [
    "Remember that not all audiences are highly engaged. It's okay if there are awkward silences. Trying to get participant engagement and failing is always better than not trying to get participant engagement."
   ]
  },
  {
   "cell_type": "markdown",
   "metadata": {},
   "source": [
    "## Open vs Closed questions\n",
    "\n",
    "One key tip for asking questions in Zoom workshops is to consider open vs closed questions:\n",
    "\n",
    "**Open questions**: Questions that are open-ended, e.g. \"What do you notice about this figure?\"\n",
    "\n",
    "**Closed questions**: Questions that have constrained answer space, e.g. \"In this figure, is group A or group B higher?\"\n",
    "\n",
    "Both are useful, but open questions require more work from participants to answer, which means that it also takes longer for them to answer. Closed questions may be less deep, but have higher rates of participant engagement. \n",
    "\n",
    "In your teaching, consider the phrasing of your questions carefully--use closed questions more frequently, and open questions sparingly for key concepts.\n",
    "\n",
    "While it's tempting to ask multiple questions at once in the hope that someone will answer one of them, the reality is that people will answer none of them. Make sure to keep your focus on one question at a time.\n",
    "\n",
    "## What to do if *you* don't know the answer to a question\n",
    "\n",
    "1. Don't panic! It's Okay Not To Know. Nothing bad will happen if you admit to not knowing.\n",
    "2. Ask Assistant Instructors--maybe they will know the answer.\n",
    "3. Do a live Google Search (as long as you are able to recognize the right answer).\n",
    "4. Say you will look up the answer during the break."
   ]
  },
  {
   "cell_type": "markdown",
   "metadata": {},
   "source": [
    "## 🥊 Challenge 3: Participant engagement\n",
    "1. Think about the practice you've had with teaching so far\n",
    "2. Write down (at least) one place where you might incorporate participant engagement.\n",
    "    - What strategy would you use? Where in the notebook would it fit?\n",
    "    - How long would it take?\n",
    "    - Would you need any preparation before the session?\n",
    "3. Add your note to the [Jamboard](https://jamboard.google.com/d/1Kd7hwNVY4vA7DFTdC8gJBY4ja6MDHbtxKhnM2vZygYo/viewer?pli=1&f=2)"
   ]
  },
  {
   "cell_type": "markdown",
   "metadata": {
    "tags": []
   },
   "source": [
    "# Challenges\n",
    "<a id='section5'></a>\n"
   ]
  },
  {
   "cell_type": "markdown",
   "metadata": {},
   "source": [
    "Challenges are the greatest chance for people to apply what they've learned. Each challenge has a key skill or idea that is being practiced. When preparing for a workshop, thinking about the purpose of the challenge is a useful thing to guide your preparation.\n",
    "\n",
    "### Types of challenges\n",
    "There are two ways of incorporating a challenge: \n",
    "\n",
    "- **Individual Challenge**: Allow participants to work through challenges on their own, then discuss the solution in the large group.\n",
    "- **Group Challenge**: Work though the challenge as a group led by the instructor, with input from the participants.\n",
    "\n",
    "#### To maximize the effectiveness of a challenge, it is important to give enough structure at the beginning:\n",
    "1. Introduce the challenge thoroughly\n",
    "2. Give expectations for the challenge (how long it will take, if volunteers would be asked to share their results)\n",
    "\n",
    "#### ...and at the end:\n",
    "\n",
    "3. Work with a student solution whenever possible\n",
    "4. Walk through the steps to come to the solution\n",
    "5. Highlight the key takeaway\n",
    "\n",
    "\n"
   ]
  },
  {
   "cell_type": "markdown",
   "metadata": {
    "tags": []
   },
   "source": [
    "## 🥊 Challenge 4: \n",
    "\n",
    "\n",
    "\n"
   ]
  },
  {
   "cell_type": "markdown",
   "metadata": {},
   "source": [
    "## Summary / Next steps\n",
    "\n",
    "Teaching a data science workshop has a significant learning curve, but is a very rewarding experience. Today we practiced a few key skills:\n",
    "\n",
    "- Introducing a D-Lab workshop: Starting off strong leads to a smooth workshop experience\n",
    "- Teaching data science curriculum\n",
    "- Keeping participants engaged in the remote environment\n",
    "- Choosing when to do an individual vs a group challenge\n",
    "\n",
    "Throughout this semester, you will have a chance to be in both the Instructor and Assistant Instructor roles:\n",
    "\n",
    "- The next step is to first to **sign up** for workshops you want to teach this semester. \n",
    "- Another resource you can review is the the **[Guide to instruction](https://docs.google.com/document/d/1_CxQn5amw47jyfqy9ECEgYm11IuL3iZr0Q9K8n5EPu4/edit#heading=h.q415f6yblf9s)** which contains the most complete information about teaching at D-Lab\n",
    "- Approximately 2 weeks before your first workshop, you will participate in a small-group **Mock Teaching Session** facilitated by a D-Lab staff member- think of these as extended versions of the teaching practice today"
   ]
  },
  {
   "cell_type": "markdown",
   "metadata": {
    "jp-MarkdownHeadingCollapsed": true,
    "tags": []
   },
   "source": [
    "<div class=\"alert alert-success\">\n",
    "\n",
    "## ❗ Key Points\n",
    "\n",
    "* It takes practice to get comfortable teaching data science\n",
    "* In particular, practicing the opening of the workshop will ensure that things progress smoothly\n",
    "* Participant engagement is a dynamic and rewarding part of teaching\n",
    "* Keep questions short and closed in most cases, and open-ended very occasionally \n",
    "\n",
    "</div>"
   ]
  }
 ],
 "metadata": {
  "kernelspec": {
   "display_name": "Python 3 (ipykernel)",
   "language": "python",
   "name": "python3"
  },
  "language_info": {
   "codemirror_mode": {
    "name": "ipython",
    "version": 3
   },
   "file_extension": ".py",
   "mimetype": "text/x-python",
   "name": "python",
   "nbconvert_exporter": "python",
   "pygments_lexer": "ipython3",
   "version": "3.10.14"
  }
 },
 "nbformat": 4,
 "nbformat_minor": 4
}
