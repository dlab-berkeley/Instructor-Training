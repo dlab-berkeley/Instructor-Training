{
 "cells": [
  {
   "cell_type": "markdown",
   "metadata": {},
   "source": [
    "# Instructor Training: Introduction to D-Lab Workshops\n",
    "\n",
    "* * * \n",
    "\n",
    "<div class=\"alert alert-success\">  \n",
    "    \n",
    "### Learning Objectives \n",
    "    \n",
    "* Understand how to introduce D-Lab workshops. \n",
    "* Distinguish between the different sections used in D-Lab notebooks. \n",
    "* Use Zoom features for participant engagement.\n",
    "* Tips and tricks when running workshops.\n",
    "\n",
    "</div>\n",
    "\n",
    "### Icons Used in This Notebook\n",
    "🔔 **Question**: A quick question to help you understand what's going on.<br>\n",
    "🥊 **Challenge**: Interactive excersise. We'll work through these in the workshop!<br>\n",
    "💡 **Tip**: How to do something a bit more efficiently or effectively.<br>\n",
    "⚠️ **Warning:** Heads-up about tricky stuff or common mistakes.<br>\n",
    "📝 **Poll:** A Zoom poll to help you learn!<br>\n",
    "🎬 **Demo**: Showing off something more advanced – so you know what Python can be used for!<br> \n",
    "\n",
    "### Sections\n",
    "1. [Section Name - EDIT ME](#section1)\n",
    "2. [Section Name - EDIT ME](#section2)\n",
    "3. [Reflection: [Title of Reflection] - EDIT ME](#refl)\n",
    "4. [Demo: [Title of Demo] - EDIT ME](#demo)"
   ]
  },
  {
   "cell_type": "markdown",
   "metadata": {},
   "source": [
    "# This Workshop 10 min"
   ]
  },
  {
   "cell_type": "markdown",
   "metadata": {},
   "source": [
    "This workshop is an introduction to running a Python Workshop at the D-Lab. When we introduce a workshop we follow the following template:\n",
    "- Introduce Instructors, Helpers\n",
    "- Mention the scope of the workshop\n",
    "- Introduce IOKN2K\n",
    "- Show D-Lab resources\n",
    "- Engage participants\n",
    "    - 2-3 questions to the students\n",
    "    - encouraging language"
   ]
  },
  {
   "cell_type": "markdown",
   "metadata": {
    "tags": []
   },
   "source": [
    "## 🥊 Challenge 1: Starting a workshop (15 min, 3 min  + 2 min feedback each)\n",
    "1. Break out into groups\n",
    "2. Rotate through introducing your chosen workshop:\n",
    "    - Introduce yourself\n",
    "    - Open D-Lab website\n",
    "    - Scope\n",
    "    - Ask for input from participants.\n",
    "3. Recall productive feedback instructions\n",
    "4. Write down one takeaway from the practice"
   ]
  },
  {
   "cell_type": "markdown",
   "metadata": {},
   "source": [
    "# Teaching data science + Demo (10 min)"
   ]
  },
  {
   "cell_type": "markdown",
   "metadata": {},
   "source": [
    "- Teaching programming is a unique skill\n",
    "- especially dealing with code live\n",
    "- the more we practice the easier things get \n",
    "\n",
    "- Here we will give an example of how we tend to teach D-Lab workshops - a 2 minute snippet of Python Fundamentals\n",
    "\n",
    "\n",
    "Main things we want to emphasize are to go slow(er) than you think you need to and repeat the main ideas/important points several times, in several different ways. Remember- even if you've seen this material several times, the participants have not."
   ]
  },
  {
   "cell_type": "markdown",
   "metadata": {
    "tags": []
   },
   "source": [
    "<a id='section1'></a>\n",
    "\n",
    "## Snippet of Python (Take a small section out of the fundamentals workshop)\n",
    "\n"
   ]
  },
  {
   "cell_type": "code",
   "execution_count": 1,
   "metadata": {},
   "outputs": [],
   "source": [
    "some_variable = 12\n",
    "if some_variable == 10:\n",
    "    print(\"high\")\n",
    "\n",
    "some_list = [1, 2, 3, 4]\n",
    "\n",
    "def some_function(a=1, b=2):\n",
    "    print(\"something\")"
   ]
  },
  {
   "cell_type": "markdown",
   "metadata": {
    "tags": []
   },
   "source": [
    "## 🥊 Challenge 2: Practice teaching- 15 minutes (3 min + 2 min feedback each)\n",
    "1. Break out into groups\n",
    "2. Practice talking through the snippet that you have prepared\n",
    "3. Give feedback\n",
    "4. Write down one tip/goal for yourself the next time you teach that notebook."
   ]
  },
  {
   "cell_type": "markdown",
   "metadata": {},
   "source": [
    "## Participant engagement (5 min)"
   ]
  },
  {
   "cell_type": "markdown",
   "metadata": {},
   "source": [
    "- In the zoom environment it can be especially tricky to keep students engaged in the workshop\n",
    "- 10 minute rule- in the first 10 minutes of the workshop, set expectations for how you want students to engage\n",
    "- participation is always opt-in"
   ]
  },
  {
   "cell_type": "markdown",
   "metadata": {},
   "source": [
    "🔔 **Question**: What engagement strategies have you seen in this workshop?"
   ]
  },
  {
   "cell_type": "markdown",
   "metadata": {},
   "source": [
    "💡 **Tip**: Breakout groups, although they are used for this workshop are not one of our main engagement strategies."
   ]
  },
  {
   "cell_type": "markdown",
   "metadata": {},
   "source": [
    "Now let's see some of these strategies in practice. "
   ]
  },
  {
   "cell_type": "code",
   "execution_count": 2,
   "metadata": {},
   "outputs": [],
   "source": [
    "## Same python snippet"
   ]
  },
  {
   "cell_type": "markdown",
   "metadata": {},
   "source": [
    "The notebooks have been designed to help give you different avenues through wich to engage students- many instructors also make notes for themselves of potential moments of engagement throughout the workshop."
   ]
  },
  {
   "cell_type": "markdown",
   "metadata": {},
   "source": [
    "## 🥊 Challenge 3: Participant engagement (5 min reflection + 5 min discussion)\n",
    "1. Think about your teaching practice you just did\n",
    "2. Write down (at least) one place where you could incorporate one of the strategies for participant engagement.\n",
    "    - What strategy would you use? Where in the notebook would it fit?\n",
    "    - How long would it take?\n",
    "    - Would you need any preparation before the session?\n",
    "3. Add your note to the jamboard"
   ]
  },
  {
   "cell_type": "markdown",
   "metadata": {
    "tags": []
   },
   "source": [
    "# Challenges (10 min)"
   ]
  },
  {
   "cell_type": "markdown",
   "metadata": {},
   "source": [
    "- Challenges are the greatest chance for people to apply what they've learned\n",
    "- a key tip is to make sure that you are giving enough structure- if someone starts getting lost, it becomes difficult to reengage them\n",
    "- give expectations for the challenge of sharing results\n",
    "- ideally: work with student solutions to the challenge\n",
    "\n",
    "Let's break down an example together:\n",
    "1. Introduce the challenge\n",
    "2. Set expectations for the work time : e.g. 5 minutes to work, I will ask volunteers to share their answers in the chat afterwards\n",
    "3. Check in after the alloted time to see how far people made it through the challenge\n",
    "4. Invite student work \n"
   ]
  },
  {
   "cell_type": "markdown",
   "metadata": {},
   "source": [
    "## Demo: working with student work\n",
    "\n",
    "How we engage with student work is very important to creating the kind of learning environment we want to encourage here at the D-Lab."
   ]
  },
  {
   "cell_type": "markdown",
   "metadata": {
    "tags": []
   },
   "source": [
    "## Exercise: introducing a challenge + walking through the answers (3 min + 2 min feedback each)\n",
    "1. In your small groups\n",
    "2. Rotate through\n",
    "3. Walk through your thought process/narrate the answer\n"
   ]
  },
  {
   "cell_type": "markdown",
   "metadata": {},
   "source": [
    "## Exercise: Putting it all together (30 min)\n",
    "\n",
    "Now that we've gone through the individual components of the workshop, now let's put it all together. \n",
    "Groups of 3, rotate through Instrutor, Helper, Participant roles\n",
    "10 minutes per rotation, 5 of teaching, 5 of feedback. "
   ]
  },
  {
   "cell_type": "markdown",
   "metadata": {
    "jp-MarkdownHeadingCollapsed": true,
    "tags": []
   },
   "source": [
    "<div class=\"alert alert-success\">\n",
    "\n",
    "## ❗ Key Points\n",
    "\n",
    "* EDIT ME. Recap the most useful information in this notebook. Keep it short and use action words. Min 3, max 8.\n",
    "* EDIT ME. Recap the most useful information in this notebook. Keep it short and use action words. Min 3, max 8.\n",
    "* EDIT ME. Recap the most useful information in this notebook. Keep it short and use action words. Min 3, max 8.\n",
    "\n",
    "</div>"
   ]
  },
  {
   "cell_type": "code",
   "execution_count": null,
   "metadata": {},
   "outputs": [],
   "source": []
  },
  {
   "cell_type": "code",
   "execution_count": null,
   "metadata": {},
   "outputs": [],
   "source": []
  }
 ],
 "metadata": {
  "kernelspec": {
   "display_name": "Python 3 (ipykernel)",
   "language": "python",
   "name": "python3"
  },
  "language_info": {
   "codemirror_mode": {
    "name": "ipython",
    "version": 3
   },
   "file_extension": ".py",
   "mimetype": "text/x-python",
   "name": "python",
   "nbconvert_exporter": "python",
   "pygments_lexer": "ipython3",
   "version": "3.9.13"
  }
 },
 "nbformat": 4,
 "nbformat_minor": 4
}
