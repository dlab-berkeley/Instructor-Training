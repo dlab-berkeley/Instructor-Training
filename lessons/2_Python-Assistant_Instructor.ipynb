{
 "cells": [
  {
   "cell_type": "markdown",
   "metadata": {},
   "source": [
    "# Assistant Instructor Training\n",
    "\n",
    "* * * \n",
    "\n",
    "<div class=\"alert alert-success\">  \n",
    "    \n",
    "### Learning Objectives \n",
    "    \n",
    "* Understand the role of Assistant Instructor \n",
    "* Be able to use Zoom chat effectively to support a workshop\n",
    "\n",
    "</div>\n",
    "\n",
    "### Icons Used in This Notebook\n",
    "🔔 **Question**: A quick question to help you understand what's going on.<br>\n",
    "🥊 **Challenge**: Interactive excersise. We'll work through these in the workshop!<br>\n",
    "💡 **Tip**: How to do something a bit more efficiently or effectively.<br>\n",
    "\n",
    "### Sections\n",
    "1. [What is an Assistant Instructor?](#section1)\n",
    "2. [Answering questions in chat](#section2)\n",
    "3. [Enhancing Instruction](#section3)\n",
    "4. [Workshop Improvement](#section4)\n",
    "5. [What's next?](#section5)"
   ]
  },
  {
   "cell_type": "markdown",
   "metadata": {
    "tags": []
   },
   "source": [
    "<a id='section1'></a>\n",
    "\n",
    "# What is an Assistant Instructor? \n",
    "\n",
    "\n",
    "Assistant Instructors are an essential part of D-Lab workshop by alleviating some of the instructional burden on the instructor.\n",
    "\n",
    "An assistant instructor typically: \n",
    "- Manages any Zoom / back-end organization such as breakout rooms, waiting rooms, solving technical problems\n",
    "- Answers questions in the chat\n",
    "- Enhances instruction by helping to fill gaps in instructor knowledge (IOKN2K!), sharing blog posts/links in the chat, or adding in tips/best practice from personal experience\n",
    "- Makes note of any issues to improve future workshops (see Workshop Improvement)\n",
    "\n",
    "In the following sections we will cover a couple of the key skills for assisting with a D-Lab workshop"
   ]
  },
  {
   "cell_type": "markdown",
   "metadata": {},
   "source": [
    "# Answering questions in the chat"
   ]
  },
  {
   "cell_type": "markdown",
   "metadata": {},
   "source": [
    "The primary way that people may ask questions is by using the chat feature in Zoom. Assistant instructors use the **reply in thread** feature of Zoom to reply to the questions.\n",
    "\n",
    "Tips for replying to questions: \n",
    "1. Think from the learner's perspective. (Why are they asking this question? What reply will be most useful?\n",
    "2. Ask for more info- ask participants to share their code, or clarify their question if necessary.\n",
    "3. Use the reply in thread feature on Zoom\n",
    "4. Try to avoid jargon and technical language in your reply\n",
    "5. Provide any resources that you consulted for the answer\n",
    "6. Think from the learner's perspective\n",
    "\n",
    "If you don't know the answer, that's okay! Sometimes a quick search can help you connect the concepts for the participant.\n",
    "Places to find further resources:\n",
    "- StackOverflow\n",
    "- Package/ function documentation\n",
    "- Blog posts\n",
    "\n",
    "💡 **Tip**: Remember to share your resource in the chat as well!\n",
    "\n",
    "If you can't find the answer, that's also okay!\n",
    "- Acknowledge the question\n",
    "- Ask the other assistant instructors if they know the answer\n",
    "- Point them to D-Lab consulting or another resource to get more help\n",
    "\n",
    "\n",
    "\n",
    "\n",
    "\n"
   ]
  },
  {
   "cell_type": "markdown",
   "metadata": {},
   "source": [
    "## 🥊 **Challenge**: \n",
    "Pick **one** of the questions below and type up your reply. Once you are done, add your answer to the Jamboard!\n",
    "\n",
    "1. What is the difference between a list and an array in R?\n",
    "\n",
    "2. Why do you do df.describe() rather than pd.describe() (in Python)? How do I know when to use df. vs pd.?\n",
    "\n",
    "3. I downloaded the .zip folder and put it in the /data folder, but when I try to open the data it doesn't work.\n",
    "\n",
    "[Note- open up a jamboard so people can add their things to it and see other answers to the questions] \n",
    "\n"
   ]
  },
  {
   "cell_type": "markdown",
   "metadata": {},
   "source": [
    "<a id='section5'></a>\n",
    "\n",
    "# Enhancing instruction\n",
    "\n",
    "In addition to answering direct questions, the assistant instructor also provides support by participating in the workshop Zoom chat, in particular by:\n",
    "1. Adding additional resources (think answering proactively/anticipating questions)\n",
    "2. Adding your own experience \"Something that helped me understand this concept is X\"\n",
    "3. Supporting the instructor if they turn to you to fill a knowledge gap.\n",
    "\n",
    "\n",
    "🔔 **Question**: In your instructor practice, think of one way in which an assistant instructor may have been able to enhance instruction.\n"
   ]
  },
  {
   "cell_type": "markdown",
   "metadata": {},
   "source": [
    "<a id='section4'></a>\n",
    "\n",
    "# Workshop improvement\n",
    "\n",
    "Assistant instructors also register notes about how and where to improve workshops by making GitHub issues. To make a GitHub issue:\n",
    "\n",
    "1. Make a GitHub account (if you haven't already)\n",
    "2. Navigate to the repository for your workshop\n",
    "3. Go to the Issues tab\n",
    "4. Click 'New Issue'\n",
    "\n",
    "The issue should have the following features:\n",
    "\n",
    "Title: Include name of the notebook that the issue is in and a brief description\n",
    "Comment: Add description of the issue, and if applicable screenshots/ copy-paste bits of code or text\n",
    "\n",
    "\n",
    "\n"
   ]
  },
  {
   "cell_type": "markdown",
   "metadata": {},
   "source": [
    "## 🥊 **Challenge**: Make a GitHub issue (5 minutes)\n",
    "Following the steps above, make a GitHub issue with one suggestion for this workshop's improvement. It can be a typo, wording change, point of clarification, or any other suggestion."
   ]
  },
  {
   "cell_type": "markdown",
   "metadata": {
    "tags": []
   },
   "source": [
    "# What's next? \n",
    "<a id='section5'></a>\n"
   ]
  },
  {
   "cell_type": "markdown",
   "metadata": {},
   "source": [
    "Today we covered two key roles in the D-Lab instructional team. Our workshops are taught by a team, and all roles are important to the success of our workshops. When you start teaching with the D-Lab, you will start as an assistant instructor and then becaome an instructor. We recommend that you focus on teaching one workshop each semester as instructor (and explore many different workshops as an assistant instructor). The next step (before you teach your first workshop) will be to review the Guide to Zoom for D-Labbers document and attend a Mock Teaching Session with another instructor."
   ]
  },
  {
   "cell_type": "markdown",
   "metadata": {
    "jp-MarkdownHeadingCollapsed": true,
    "tags": []
   },
   "source": [
    "<div class=\"alert alert-success\">\n",
    "\n",
    "## ❗ Key Points\n",
    "\n",
    "* Assistant instructors are active members of the instructional team who are the primary responders in the Zoom chat.\n",
    "* Assistant Instructors both respond to questions and proactively provide information and resources in the workshop.\n",
    "* GitHub Issues are the primary way to record suggestions for workshop improvement. \n",
    "\n",
    "</div>"
   ]
  },
  {
   "cell_type": "code",
   "execution_count": null,
   "metadata": {},
   "outputs": [],
   "source": []
  }
 ],
 "metadata": {
  "kernelspec": {
   "display_name": "Python 3 (ipykernel)",
   "language": "python",
   "name": "python3"
  },
  "language_info": {
   "codemirror_mode": {
    "name": "ipython",
    "version": 3
   },
   "file_extension": ".py",
   "mimetype": "text/x-python",
   "name": "python",
   "nbconvert_exporter": "python",
   "pygments_lexer": "ipython3",
   "version": "3.9.13"
  }
 },
 "nbformat": 4,
 "nbformat_minor": 4
}
